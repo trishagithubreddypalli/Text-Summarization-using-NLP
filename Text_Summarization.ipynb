{
  "nbformat": 4,
  "nbformat_minor": 0,
  "metadata": {
    "colab": {
      "provenance": [],
      "gpuType": "T4"
    },
    "kernelspec": {
      "name": "python3",
      "display_name": "Python 3"
    },
    "language_info": {
      "name": "python"
    },
    "accelerator": "GPU"
  },
  "cells": [
    {
      "cell_type": "markdown",
      "source": [
        "Text Summarization using NLP\n",
        "\n",
        "Text summarization is the process of distilling the most important information from the source text."
      ],
      "metadata": {
        "id": "g-n6L7iDTQ3y"
      }
    },
    {
      "cell_type": "markdown",
      "source": [
        "Steps :\n",
        "1.Text Cleaning\n",
        "\n",
        "\n",
        "\n"
      ],
      "metadata": {
        "id": "dyX7kg-BTs19"
      }
    },
    {
      "cell_type": "markdown",
      "source": [
        "2.Sentence Tokenization\n"
      ],
      "metadata": {
        "id": "KOCuEL8AUOxq"
      }
    },
    {
      "cell_type": "markdown",
      "source": [
        "3.Word tokenization\n"
      ],
      "metadata": {
        "id": "NTDtFNs0UR-M"
      }
    },
    {
      "cell_type": "markdown",
      "source": [
        "4.Word-frequency table\n"
      ],
      "metadata": {
        "id": "rATDsQYLUUQL"
      }
    },
    {
      "cell_type": "markdown",
      "source": [
        "5.Summarization"
      ],
      "metadata": {
        "id": "E7Mmijw1UV_f"
      }
    },
    {
      "cell_type": "code",
      "source": [
        "text=\"\"\"\n",
        "Text summarization is a natural language processing task that condenses a document into a shorter version while retaining its essential information. It can be extractive, selecting key sentences from the original text, or abstractive, generating new sentences that encapsulate the main ideas. The process involves preprocessing the text to remove noise, and then applying algorithms like TextRank for extractive methods or deep learning models for abstractive methods. Applications of text summarization include news aggregation, academic research, and enhancing digital content accessibility. Despite its advancements, challenges like maintaining coherence and context remain, particularly for abstractive summarization. Overall, it plays a crucial role in managing information overload in the digital age.\n",
        "\"\"\""
      ],
      "metadata": {
        "id": "M9IsONBOUIZJ"
      },
      "execution_count": 10,
      "outputs": []
    },
    {
      "cell_type": "code",
      "source": [
        "import spacy\n",
        "from spacy.lang.en.stop_words import STOP_WORDS\n",
        "from string import punctuation"
      ],
      "metadata": {
        "id": "JnygKhdmUw9I"
      },
      "execution_count": 9,
      "outputs": []
    },
    {
      "cell_type": "code",
      "source": [
        "stopwords=list(STOP_WORDS)"
      ],
      "metadata": {
        "id": "Gr4BvdEQVFVE"
      },
      "execution_count": 11,
      "outputs": []
    },
    {
      "cell_type": "code",
      "source": [
        "nlp=spacy.load('en_core_web_sm')"
      ],
      "metadata": {
        "id": "up-F5t85VK0Q"
      },
      "execution_count": 13,
      "outputs": []
    },
    {
      "cell_type": "code",
      "source": [
        "doc=nlp(text)"
      ],
      "metadata": {
        "id": "fb85RhDLVK2S"
      },
      "execution_count": 14,
      "outputs": []
    },
    {
      "cell_type": "code",
      "source": [
        "tokens=[token.text for token in doc]"
      ],
      "metadata": {
        "id": "L7-EFHv1VK5w"
      },
      "execution_count": 15,
      "outputs": []
    },
    {
      "cell_type": "code",
      "source": [
        "print(tokens)"
      ],
      "metadata": {
        "colab": {
          "base_uri": "https://localhost:8080/"
        },
        "id": "S_FUq51iVc-o",
        "outputId": "07a51d28-06fa-45e0-dd39-39f9c4236d7c"
      },
      "execution_count": 17,
      "outputs": [
        {
          "output_type": "stream",
          "name": "stdout",
          "text": [
            "['\\n', 'Text', 'summarization', 'is', 'a', 'natural', 'language', 'processing', 'task', 'that', 'condenses', 'a', 'document', 'into', 'a', 'shorter', 'version', 'while', 'retaining', 'its', 'essential', 'information', '.', 'It', 'can', 'be', 'extractive', ',', 'selecting', 'key', 'sentences', 'from', 'the', 'original', 'text', ',', 'or', 'abstractive', ',', 'generating', 'new', 'sentences', 'that', 'encapsulate', 'the', 'main', 'ideas', '.', 'The', 'process', 'involves', 'preprocessing', 'the', 'text', 'to', 'remove', 'noise', ',', 'and', 'then', 'applying', 'algorithms', 'like', 'TextRank', 'for', 'extractive', 'methods', 'or', 'deep', 'learning', 'models', 'for', 'abstractive', 'methods', '.', 'Applications', 'of', 'text', 'summarization', 'include', 'news', 'aggregation', ',', 'academic', 'research', ',', 'and', 'enhancing', 'digital', 'content', 'accessibility', '.', 'Despite', 'its', 'advancements', ',', 'challenges', 'like', 'maintaining', 'coherence', 'and', 'context', 'remain', ',', 'particularly', 'for', 'abstractive', 'summarization', '.', 'Overall', ',', 'it', 'plays', 'a', 'crucial', 'role', 'in', 'managing', 'information', 'overload', 'in', 'the', 'digital', 'age', '.', '\\n']\n"
          ]
        }
      ]
    },
    {
      "cell_type": "code",
      "source": [
        "punctuation = punctuation + '\\n'\n",
        "punctuation"
      ],
      "metadata": {
        "colab": {
          "base_uri": "https://localhost:8080/",
          "height": 36
        },
        "id": "fhe3Rot8VdB_",
        "outputId": "9a744b99-72d4-456d-e9a2-77436f4137ea"
      },
      "execution_count": 18,
      "outputs": [
        {
          "output_type": "execute_result",
          "data": {
            "text/plain": [
              "'!\"#$%&\\'()*+,-./:;<=>?@[\\\\]^_`{|}~\\n'"
            ],
            "application/vnd.google.colaboratory.intrinsic+json": {
              "type": "string"
            }
          },
          "metadata": {},
          "execution_count": 18
        }
      ]
    },
    {
      "cell_type": "code",
      "source": [
        "word_frequencies = {}\n",
        "for word in doc:\n",
        "  if word.text.lower() not in stopwords:\n",
        "    if word.text not in word_frequencies.keys():\n",
        "      word_frequencies[word.text] = 1\n",
        "    else:\n",
        "      word_frequencies[word.text]+=1"
      ],
      "metadata": {
        "id": "N3E08xzgV2nv"
      },
      "execution_count": 20,
      "outputs": []
    },
    {
      "cell_type": "code",
      "source": [
        "print(word_frequencies)"
      ],
      "metadata": {
        "colab": {
          "base_uri": "https://localhost:8080/"
        },
        "id": "npjsIFCPWauN",
        "outputId": "bd3f171f-ac03-4b20-8ed3-65b06bbb333f"
      },
      "execution_count": 21,
      "outputs": [
        {
          "output_type": "stream",
          "name": "stdout",
          "text": [
            "{'\\n': 2, 'Text': 1, 'summarization': 3, 'natural': 1, 'language': 1, 'processing': 1, 'task': 1, 'condenses': 1, 'document': 1, 'shorter': 1, 'version': 1, 'retaining': 1, 'essential': 1, 'information': 2, '.': 6, 'extractive': 2, ',': 9, 'selecting': 1, 'key': 1, 'sentences': 2, 'original': 1, 'text': 3, 'abstractive': 3, 'generating': 1, 'new': 1, 'encapsulate': 1, 'main': 1, 'ideas': 1, 'process': 1, 'involves': 1, 'preprocessing': 1, 'remove': 1, 'noise': 1, 'applying': 1, 'algorithms': 1, 'like': 2, 'TextRank': 1, 'methods': 2, 'deep': 1, 'learning': 1, 'models': 1, 'Applications': 1, 'include': 1, 'news': 1, 'aggregation': 1, 'academic': 1, 'research': 1, 'enhancing': 1, 'digital': 2, 'content': 1, 'accessibility': 1, 'Despite': 1, 'advancements': 1, 'challenges': 1, 'maintaining': 1, 'coherence': 1, 'context': 1, 'remain': 1, 'particularly': 1, 'Overall': 1, 'plays': 1, 'crucial': 1, 'role': 1, 'managing': 1, 'overload': 1, 'age': 1}\n"
          ]
        }
      ]
    },
    {
      "cell_type": "code",
      "source": [
        "max_frequency=max(word_frequencies.values())"
      ],
      "metadata": {
        "id": "UJ9rDZMHWaxx"
      },
      "execution_count": 22,
      "outputs": []
    },
    {
      "cell_type": "code",
      "source": [
        "max_frequency"
      ],
      "metadata": {
        "colab": {
          "base_uri": "https://localhost:8080/"
        },
        "id": "3vLNfcDaWl_Q",
        "outputId": "cbeb3f23-e4ec-4bef-e090-7fb127a045f2"
      },
      "execution_count": 23,
      "outputs": [
        {
          "output_type": "execute_result",
          "data": {
            "text/plain": [
              "9"
            ]
          },
          "metadata": {},
          "execution_count": 23
        }
      ]
    },
    {
      "cell_type": "code",
      "source": [
        "for word in word_frequencies.keys():\n",
        "  word_frequencies[word]=word_frequencies[word]/max_frequency"
      ],
      "metadata": {
        "id": "xk6wLURMWmCs"
      },
      "execution_count": 24,
      "outputs": []
    },
    {
      "cell_type": "code",
      "source": [
        "print(word_frequencies)"
      ],
      "metadata": {
        "colab": {
          "base_uri": "https://localhost:8080/"
        },
        "id": "n5ZkeOhkWmhE",
        "outputId": "fd7f087b-ceb9-4c04-e655-dfd39b8291a1"
      },
      "execution_count": 25,
      "outputs": [
        {
          "output_type": "stream",
          "name": "stdout",
          "text": [
            "{'\\n': 0.2222222222222222, 'Text': 0.1111111111111111, 'summarization': 0.3333333333333333, 'natural': 0.1111111111111111, 'language': 0.1111111111111111, 'processing': 0.1111111111111111, 'task': 0.1111111111111111, 'condenses': 0.1111111111111111, 'document': 0.1111111111111111, 'shorter': 0.1111111111111111, 'version': 0.1111111111111111, 'retaining': 0.1111111111111111, 'essential': 0.1111111111111111, 'information': 0.2222222222222222, '.': 0.6666666666666666, 'extractive': 0.2222222222222222, ',': 1.0, 'selecting': 0.1111111111111111, 'key': 0.1111111111111111, 'sentences': 0.2222222222222222, 'original': 0.1111111111111111, 'text': 0.3333333333333333, 'abstractive': 0.3333333333333333, 'generating': 0.1111111111111111, 'new': 0.1111111111111111, 'encapsulate': 0.1111111111111111, 'main': 0.1111111111111111, 'ideas': 0.1111111111111111, 'process': 0.1111111111111111, 'involves': 0.1111111111111111, 'preprocessing': 0.1111111111111111, 'remove': 0.1111111111111111, 'noise': 0.1111111111111111, 'applying': 0.1111111111111111, 'algorithms': 0.1111111111111111, 'like': 0.2222222222222222, 'TextRank': 0.1111111111111111, 'methods': 0.2222222222222222, 'deep': 0.1111111111111111, 'learning': 0.1111111111111111, 'models': 0.1111111111111111, 'Applications': 0.1111111111111111, 'include': 0.1111111111111111, 'news': 0.1111111111111111, 'aggregation': 0.1111111111111111, 'academic': 0.1111111111111111, 'research': 0.1111111111111111, 'enhancing': 0.1111111111111111, 'digital': 0.2222222222222222, 'content': 0.1111111111111111, 'accessibility': 0.1111111111111111, 'Despite': 0.1111111111111111, 'advancements': 0.1111111111111111, 'challenges': 0.1111111111111111, 'maintaining': 0.1111111111111111, 'coherence': 0.1111111111111111, 'context': 0.1111111111111111, 'remain': 0.1111111111111111, 'particularly': 0.1111111111111111, 'Overall': 0.1111111111111111, 'plays': 0.1111111111111111, 'crucial': 0.1111111111111111, 'role': 0.1111111111111111, 'managing': 0.1111111111111111, 'overload': 0.1111111111111111, 'age': 0.1111111111111111}\n"
          ]
        }
      ]
    },
    {
      "cell_type": "code",
      "source": [
        "sentence_tokens = [sent for sent in doc.sents]\n",
        "print(sentence_tokens)"
      ],
      "metadata": {
        "colab": {
          "base_uri": "https://localhost:8080/"
        },
        "id": "q48DjDGpWmkY",
        "outputId": "6c30fbec-544f-46c5-b708-b941171ab67f"
      },
      "execution_count": 26,
      "outputs": [
        {
          "output_type": "stream",
          "name": "stdout",
          "text": [
            "[\n",
            "Text summarization is a natural language processing task that condenses a document into a shorter version while retaining its essential information., It can be extractive, selecting key sentences from the original text, or abstractive, generating new sentences that encapsulate the main ideas., The process involves preprocessing the text to remove noise, and then applying algorithms like TextRank for extractive methods or deep learning models for abstractive methods., Applications of text summarization include news aggregation, academic research, and enhancing digital content accessibility., Despite its advancements, challenges like maintaining coherence and context remain, particularly for abstractive summarization., Overall, it plays a crucial role in managing information overload in the digital age.\n",
            "]\n"
          ]
        }
      ]
    },
    {
      "cell_type": "code",
      "source": [
        "sentence_scores = {}\n",
        "for sent in sentence_tokens:\n",
        "  for word in sent:\n",
        "    if word.text.lower() in word_frequencies.keys():\n",
        "      if sent not in sentence_scores.keys():\n",
        "        sentence_scores[sent] = word_frequencies[word.text.lower()]\n",
        "      else:\n",
        "        sentence_scores[sent] += word_frequencies[word.text.lower()]"
      ],
      "metadata": {
        "id": "HShrrMBrXHMe"
      },
      "execution_count": 27,
      "outputs": []
    },
    {
      "cell_type": "code",
      "source": [
        "sentence_scores"
      ],
      "metadata": {
        "colab": {
          "base_uri": "https://localhost:8080/"
        },
        "id": "-6IkEMlBXHP4",
        "outputId": "96335b74-c482-4f20-8b96-84781aa9eb3f"
      },
      "execution_count": 28,
      "outputs": [
        {
          "output_type": "execute_result",
          "data": {
            "text/plain": [
              "{\n",
              " Text summarization is a natural language processing task that condenses a document into a shorter version while retaining its essential information.: 2.8888888888888893,\n",
              " It can be extractive, selecting key sentences from the original text, or abstractive, generating new sentences that encapsulate the main ideas.: 5.8888888888888875,\n",
              " The process involves preprocessing the text to remove noise, and then applying algorithms like TextRank for extractive methods or deep learning models for abstractive methods.: 4.333333333333334,\n",
              " Applications of text summarization include news aggregation, academic research, and enhancing digital content accessibility.: 4.444444444444445,\n",
              " Despite its advancements, challenges like maintaining coherence and context remain, particularly for abstractive summarization.: 4.333333333333334,\n",
              " Overall, it plays a crucial role in managing information overload in the digital age.: 3.0000000000000004}"
            ]
          },
          "metadata": {},
          "execution_count": 28
        }
      ]
    },
    {
      "cell_type": "code",
      "source": [
        "from heapq import nlargest"
      ],
      "metadata": {
        "id": "68JEFv-UXtms"
      },
      "execution_count": 29,
      "outputs": []
    },
    {
      "cell_type": "code",
      "source": [
        "select_length = int(len(sentence_tokens)*0.3)\n",
        "select_length"
      ],
      "metadata": {
        "colab": {
          "base_uri": "https://localhost:8080/"
        },
        "id": "N1RDHqPPXtqG",
        "outputId": "0f66266d-dae0-4788-d867-775416820dca"
      },
      "execution_count": 30,
      "outputs": [
        {
          "output_type": "execute_result",
          "data": {
            "text/plain": [
              "1"
            ]
          },
          "metadata": {},
          "execution_count": 30
        }
      ]
    },
    {
      "cell_type": "code",
      "source": [
        "summary = nlargest(select_length,sentence_scores,key=sentence_scores.get)"
      ],
      "metadata": {
        "id": "G6gBOMS3YBba"
      },
      "execution_count": 31,
      "outputs": []
    },
    {
      "cell_type": "code",
      "source": [
        "summary"
      ],
      "metadata": {
        "colab": {
          "base_uri": "https://localhost:8080/"
        },
        "id": "pza55Z4GYLAM",
        "outputId": "bd214e77-1d56-487d-b222-ee10541ebccd"
      },
      "execution_count": 33,
      "outputs": [
        {
          "output_type": "execute_result",
          "data": {
            "text/plain": [
              "[It can be extractive, selecting key sentences from the original text, or abstractive, generating new sentences that encapsulate the main ideas.]"
            ]
          },
          "metadata": {},
          "execution_count": 33
        }
      ]
    },
    {
      "cell_type": "code",
      "source": [
        "final_summary = [word.text for word in summary]"
      ],
      "metadata": {
        "id": "_s1COJQgYQOQ"
      },
      "execution_count": 35,
      "outputs": []
    },
    {
      "cell_type": "code",
      "source": [
        "summary = ' '.join(final_summary)"
      ],
      "metadata": {
        "id": "6duVbYmHYV0k"
      },
      "execution_count": 36,
      "outputs": []
    },
    {
      "cell_type": "code",
      "source": [
        "print(text)"
      ],
      "metadata": {
        "colab": {
          "base_uri": "https://localhost:8080/"
        },
        "id": "XUHwFrtnYcy5",
        "outputId": "f9954022-779a-49db-f452-d92a4b949d3a"
      },
      "execution_count": 37,
      "outputs": [
        {
          "output_type": "stream",
          "name": "stdout",
          "text": [
            "\n",
            "Text summarization is a natural language processing task that condenses a document into a shorter version while retaining its essential information. It can be extractive, selecting key sentences from the original text, or abstractive, generating new sentences that encapsulate the main ideas. The process involves preprocessing the text to remove noise, and then applying algorithms like TextRank for extractive methods or deep learning models for abstractive methods. Applications of text summarization include news aggregation, academic research, and enhancing digital content accessibility. Despite its advancements, challenges like maintaining coherence and context remain, particularly for abstractive summarization. Overall, it plays a crucial role in managing information overload in the digital age.\n",
            "\n"
          ]
        }
      ]
    },
    {
      "cell_type": "code",
      "source": [
        "print(summary)"
      ],
      "metadata": {
        "colab": {
          "base_uri": "https://localhost:8080/"
        },
        "id": "xztQPSpGYc1L",
        "outputId": "93dd426f-caa7-4f9d-eea0-b7ed560a935f"
      },
      "execution_count": 38,
      "outputs": [
        {
          "output_type": "stream",
          "name": "stdout",
          "text": [
            "It can be extractive, selecting key sentences from the original text, or abstractive, generating new sentences that encapsulate the main ideas.\n"
          ]
        }
      ]
    },
    {
      "cell_type": "code",
      "source": [
        "len(text)"
      ],
      "metadata": {
        "colab": {
          "base_uri": "https://localhost:8080/"
        },
        "id": "9dtlPIYHYc4j",
        "outputId": "ce16d973-b433-4e98-963b-e1ce2af56d00"
      },
      "execution_count": 39,
      "outputs": [
        {
          "output_type": "execute_result",
          "data": {
            "text/plain": [
              "809"
            ]
          },
          "metadata": {},
          "execution_count": 39
        }
      ]
    },
    {
      "cell_type": "code",
      "source": [
        "len(summary)"
      ],
      "metadata": {
        "colab": {
          "base_uri": "https://localhost:8080/"
        },
        "id": "VFvFXHozYV4L",
        "outputId": "b7b695fe-44c2-4072-a44c-8b837760922d"
      },
      "execution_count": 40,
      "outputs": [
        {
          "output_type": "execute_result",
          "data": {
            "text/plain": [
              "143"
            ]
          },
          "metadata": {},
          "execution_count": 40
        }
      ]
    }
  ]
}